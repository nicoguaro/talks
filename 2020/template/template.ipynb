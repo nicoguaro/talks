{
 "cells": [
  {
   "cell_type": "markdown",
   "metadata": {
    "slideshow": {
     "slide_type": "slide"
    }
   },
   "source": [
    "# Título charla\n",
    "\n",
    "\n",
    "## Nicolás Guarín-Zapata\n"
   ]
  },
  {
   "cell_type": "markdown",
   "metadata": {
    "slideshow": {
     "slide_type": "slide"
    }
   },
   "source": [
    "# Acerca de mí (https://nicoguaro.github.io/)\n",
    "\n",
    "Descripción"
   ]
  },
  {
   "cell_type": "markdown",
   "metadata": {
    "slideshow": {
     "slide_type": "slide"
    }
   },
   "source": [
    "#### Intereses de Investigación\n",
    "\n",
    "- Física computacional\n",
    "- Diseño de materiales\n",
    "\n",
    "#### Docencia\n",
    "\n",
    "- Modelación computacional\n",
    "- Métodos numéricos\n",
    "- Matemáticas avanzadas para ingenieros"
   ]
  },
  {
   "cell_type": "markdown",
   "metadata": {
    "slideshow": {
     "slide_type": "slide"
    }
   },
   "source": [
    "# Título diapositiva\n",
    "\n",
    "Texto"
   ]
  },
  {
   "cell_type": "code",
   "execution_count": 2,
   "metadata": {
    "slideshow": {
     "slide_type": "notes"
    }
   },
   "outputs": [],
   "source": [
    "# Celda oculta para código"
   ]
  },
  {
   "cell_type": "markdown",
   "metadata": {
    "slideshow": {
     "slide_type": "slide"
    }
   },
   "source": [
    "# Referencias\n",
    "\n",
    "\n",
    "- Información bibliográfica."
   ]
  },
  {
   "cell_type": "markdown",
   "metadata": {
    "slideshow": {
     "slide_type": "slide"
    }
   },
   "source": [
    "# Contacto\n",
    "\n",
    "|                                                              \t|                                                           \t|\n",
    "|--------------------------------------------------------------\t|-----------------------------------------------------------\t|\n",
    "| <img style=\"float:left\" src=\"img/website.svg\" width=\"50px\"/> \t| <h1 class=\"text-primary\">nicoguaro.github.io</h1>         \t|\n",
    "| <img style=\"float:left\" src=\"img/github.svg\" width=\"50px\"/>  \t| <h1 class=\"text-primary\">nicoguaro</h1>                   \t|\n",
    "| <img style=\"float:left\" src=\"img/twitter.svg\" width=\"50px\"/> \t| <h1 class=\"text-primary\">@nicoguaro</h1>                  \t|\n",
    "| <img style=\"float:left\" src=\"img/email.svg\" width=\"50px\"/>   \t| <h1 class=\"text-primary\">nicoguarin at gmail dot com</h1> \t|"
   ]
  }
 ],
 "metadata": {
  "kernelspec": {
   "display_name": "Python 3",
   "language": "python",
   "name": "python3"
  },
  "livereveal": {
   "autolaunch": true
  }
 },
 "nbformat": 4,
 "nbformat_minor": 4
}
