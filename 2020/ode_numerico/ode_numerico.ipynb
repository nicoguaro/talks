{
 "cells": [
  {
   "cell_type": "markdown",
   "metadata": {
    "slideshow": {
     "slide_type": "slide"
    }
   },
   "source": [
    "# ¿Cómo resolver problemas de física en la vida real?\n",
    "\n",
    "\n",
    "## Nicolás Guarín-Zapata\n"
   ]
  },
  {
   "cell_type": "markdown",
   "metadata": {
    "slideshow": {
     "slide_type": "slide"
    }
   },
   "source": [
    "# Acerca de mí ([nicoguaro.github.io](nicoguaro.github.io))\n",
    "\n",
    "Descripción"
   ]
  },
  {
   "cell_type": "markdown",
   "metadata": {
    "slideshow": {
     "slide_type": "slide"
    }
   },
   "source": [
    "#### Intereses de Investigación\n",
    "\n",
    "- Física computacional\n",
    "- Diseño de materiales\n",
    "\n",
    "#### Docencia\n",
    "\n",
    "- Modelación computacional\n",
    "- Métodos numéricos\n",
    "- Matemáticas avanzadas para ingenieros"
   ]
  },
  {
   "cell_type": "code",
   "execution_count": 1,
   "metadata": {
    "slideshow": {
     "slide_type": "notes"
    }
   },
   "outputs": [],
   "source": [
    "# Celda oculta para código\n",
    "import numpy as np"
   ]
  },
  {
   "cell_type": "markdown",
   "metadata": {
    "slideshow": {
     "slide_type": "slide"
    }
   },
   "source": [
    "# Título diapositiva\n",
    "\n",
    "Texto"
   ]
  },
  {
   "cell_type": "markdown",
   "metadata": {
    "slideshow": {
     "slide_type": "slide"
    }
   },
   "source": [
    "# Referencias\n",
    "\n",
    "\n",
    "- Información bibliográfica."
   ]
  },
  {
   "cell_type": "markdown",
   "metadata": {
    "slideshow": {
     "slide_type": "slide"
    }
   },
   "source": [
    "|                                                              \t|                                                           \t|\n",
    "|--------------------------------------------------------------\t|-----------------------------------------------------------\t|\n",
    "| <img style=\"float:left\" src=\"img/website.svg\" width=\"50px\"/> \t| <h1 class=\"text-primary\">nicoguaro.github.io</h1>         \t|\n",
    "| <img style=\"float:left\" src=\"img/github.svg\" width=\"50px\"/>  \t| <h1 class=\"text-primary\">nicoguaro</h1>                   \t|\n",
    "| <img style=\"float:left\" src=\"img/twitter.svg\" width=\"50px\"/> \t| <h1 class=\"text-primary\">@nicoguaro</h1>                  \t|\n",
    "| <img style=\"float:left\" src=\"img/email.svg\" width=\"50px\"/>   \t| <h1 class=\"text-primary\">nicoguarin at gmail dot com</h1> \t|"
   ]
  }
 ],
 "metadata": {
  "celltoolbar": "Slideshow",
  "kernelspec": {
   "display_name": "Python 3",
   "language": "python",
   "name": "python3"
  },
  "livereveal": {
   "autolaunch": true
  }
 },
 "nbformat": 4,
 "nbformat_minor": 4
}
