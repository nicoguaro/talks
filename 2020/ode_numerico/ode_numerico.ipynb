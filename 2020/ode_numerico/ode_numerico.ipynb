{
 "cells": [
  {
   "cell_type": "markdown",
   "metadata": {
    "slideshow": {
     "slide_type": "slide"
    }
   },
   "source": [
    "# ¿Cómo resolver problemas de física en la vida real?\n",
    "\n",
    "\n",
    "## Nicolás Guarín-Zapata\n"
   ]
  },
  {
   "cell_type": "markdown",
   "metadata": {
    "slideshow": {
     "slide_type": "slide"
    }
   },
   "source": [
    "# Acerca de mí ([nicoguaro.github.io](nicoguaro.github.io))\n",
    "\n",
    "Descripción"
   ]
  },
  {
   "cell_type": "markdown",
   "metadata": {
    "slideshow": {
     "slide_type": "slide"
    }
   },
   "source": [
    "#### Intereses de Investigación\n",
    "\n",
    "- Física computacional\n",
    "- Diseño de materiales\n",
    "\n",
    "#### Docencia\n",
    "\n",
    "- Modelación computacional\n",
    "- Métodos numéricos\n",
    "- Matemáticas avanzadas para ingenieros"
   ]
  },
  {
   "cell_type": "code",
   "execution_count": 1,
   "metadata": {
    "slideshow": {
     "slide_type": "notes"
    }
   },
   "outputs": [],
   "source": [
    "# Celda oculta para código\n",
    "import numpy as np"
   ]
  },
  {
   "cell_type": "markdown",
   "metadata": {
    "slideshow": {
     "slide_type": "slide"
    }
   },
   "source": [
    "# Título diapositiva\n",
    "\n",
    "Texto"
   ]
  },
  {
   "cell_type": "markdown",
   "metadata": {
    "slideshow": {
     "slide_type": "slide"
    }
   },
   "source": [
    "# Referencias\n",
    "\n",
    "\n",
    "- Información bibliográfica."
   ]
  },
  {
   "cell_type": "markdown",
   "metadata": {
    "slideshow": {
     "slide_type": "slide"
    }
   },
   "source": [
    "|                                                              \t|                                                           \t|\n",
    "|--------------------------------------------------------------\t|-----------------------------------------------------------\t|\n",
    "| <img style=\"float:left\" src=\"img/website.svg\" width=\"50px\"/> \t| <h1 class=\"text-primary\">nicoguaro.github.io</h1>         \t|\n",
    "| <img style=\"float:left\" src=\"img/github.svg\" width=\"50px\"/>  \t| <h1 class=\"text-primary\">nicoguaro</h1>                   \t|\n",
    "| <img style=\"float:left\" src=\"img/twitter.svg\" width=\"50px\"/> \t| <h1 class=\"text-primary\">@nicoguaro</h1>                  \t|\n",
    "| <img style=\"float:left\" src=\"img/email.svg\" width=\"50px\"/>   \t| <h1 class=\"text-primary\">nicoguarin at gmail dot com</h1> \t|"
   ]
  },
  {
   "cell_type": "code",
   "execution_count": null,
   "metadata": {},
   "outputs": [],
   "source": []
  }
 ],
 "metadata": {
  "celltoolbar": "Slideshow",
  "kernelspec": {
   "display_name": "Python 3",
   "language": "python",
   "name": "python3"
  },
  "language_info": {
   "codemirror_mode": {
    "name": "ipython",
    "version": 3
   },
   "file_extension": ".py",
   "mimetype": "text/x-python",
   "name": "python",
   "nbconvert_exporter": "python",
   "pygments_lexer": "ipython3",
   "version": "3.7.3"
  },
  "livereveal": {
   "autolaunch": true
  },
  "toc": {
   "base_numbering": 1,
   "nav_menu": {},
   "number_sections": true,
   "sideBar": true,
   "skip_h1_title": false,
   "title_cell": "Table of Contents",
   "title_sidebar": "Contents",
   "toc_cell": false,
   "toc_position": {},
   "toc_section_display": true,
   "toc_window_display": false
  },
  "varInspector": {
   "cols": {
    "lenName": 16,
    "lenType": 16,
    "lenVar": 40
   },
   "kernels_config": {
    "python": {
     "delete_cmd_postfix": "",
     "delete_cmd_prefix": "del ",
     "library": "var_list.py",
     "varRefreshCmd": "print(var_dic_list())"
    },
    "r": {
     "delete_cmd_postfix": ") ",
     "delete_cmd_prefix": "rm(",
     "library": "var_list.r",
     "varRefreshCmd": "cat(var_dic_list()) "
    }
   },
   "types_to_exclude": [
    "module",
    "function",
    "builtin_function_or_method",
    "instance",
    "_Feature"
   ],
   "window_display": false
  }
 },
 "nbformat": 4,
 "nbformat_minor": 4
}
