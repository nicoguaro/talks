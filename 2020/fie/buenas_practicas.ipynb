{
 "cells": [
  {
   "cell_type": "markdown",
   "metadata": {
    "slideshow": {
     "slide_type": "slide"
    }
   },
   "source": [
    "<img style=\"float: center;\"\n",
    "     src=\"./img/collage.png\"\n",
    "     width=\"2000\"\n",
    "     height=\"50\">"
   ]
  },
  {
   "cell_type": "markdown",
   "metadata": {
    "slideshow": {
     "slide_type": "slide"
    }
   },
   "source": [
    "## Cuadernillos digitales interactivos para fomentar el aprendizaje activo  en Mecánica Computacional\n",
    "\n",
    "\n",
    "\n",
    "### Juan David Gómez,  Nicolás Guarín-Zapata, Camilo Vieira,  y Juan David Ortega-Alvarez\n",
    "\n",
    "#### Octubre 2020\n",
    "\n",
    "<table style=\"float: left;\">\n",
    "    <tr style=\"background-color: white;\">\n",
    "    <td><img src=\"./img/logo_eafit.svg\" width=\"250\"></td>\n",
    "    <td><img src=\"./img/logo_uninorte.svg\" width=\"250\"></td>\n",
    "    </tr>\n",
    "</table>\n",
    "\n",
    "\n"
   ]
  },
  {
   "cell_type": "markdown",
   "metadata": {
    "slideshow": {
     "slide_type": "notes"
    }
   },
   "source": [
    "**Nota:** Esta es una presentación de diapositivas en Jupyter Notebooks para una mejor visualización de la presentación. Se recomienda instalar RISE para convertir losNBs en presentaciones en vivo.\n",
    "https://github.com/damianavila/RISE"
   ]
  },
  {
   "cell_type": "markdown",
   "metadata": {
    "slideshow": {
     "slide_type": "slide"
    }
   },
   "source": [
    "# ¿Por qué cambiar?\n",
    "\n",
    "\n",
    "- Frustración.\n",
    "\n",
    "- Conociendo a Juanpa.\n",
    "\n",
    "- Geovany Bedoya:\n",
    "\n",
    "  \"Me levanto todos los días a hacer mi trabajo de la mejor manera posible.\""
   ]
  },
  {
   "cell_type": "markdown",
   "metadata": {
    "slideshow": {
     "slide_type": "slide"
    }
   },
   "source": [
    "# ¿Qué es aprendizaje activo?\n",
    "\n",
    "- Lo que resulta de un mal profesor y un buen estudiante (Juan Diego en la UdeM).\n",
    "- Lo que hacía Juan \"Malo\"."
   ]
  },
  {
   "cell_type": "markdown",
   "metadata": {
    "slideshow": {
     "slide_type": "subslide"
    }
   },
   "source": [
    "> \"Proceso que involucra a los estudiantes en alguna actividad que los obliga a reflexionar acerca de ideas y de como usar esas ideas\", Michael (2006)."
   ]
  },
  {
   "cell_type": "markdown",
   "metadata": {
    "slideshow": {
     "slide_type": "subslide"
    }
   },
   "source": [
    "> \"Método que involucra a los estudiantes en el proceso de aprendizaje a través de\n",
    "actividades y/o discusiones en el aula, en comparación con la acción de escuchar pasivamente a un\n",
    "experto. El aprendizaje activo enfatiza el pensamiento de orden superior y frecuentemente\n",
    "implica trabajo de grupo\", Freeman et al (2014)"
   ]
  },
  {
   "cell_type": "markdown",
   "metadata": {
    "slideshow": {
     "slide_type": "subslide"
    }
   },
   "source": [
    "<table>\n",
    "<tr class=\"odd\">\n",
    "<td style=\"text-align: left;\"><strong>Pasivo</strong></td>\n",
    "<td style=\"text-align: left;\"><strong>Activo</strong></td>\n",
    "</tr>\n",
    "<tr class=\"even\">\n",
    "<td style=\"text-align: left;\">Leer sobre un tema</td>\n",
    "<td style=\"text-align: left;\">Resolver problemas</td>\n",
    "</tr>\n",
    "<tr class=\"odd\">\n",
    "<td style=\"text-align: left;\">Mirar un video</td>\n",
    "<td style=\"text-align: left;\">Discutir el tema de un video</td>\n",
    "</tr>\n",
    "<tr class=\"even\">\n",
    "<td style=\"text-align: left;\">Atender una clase</td>\n",
    "<td style=\"text-align: left;\">Tratar de dictar una clase</td>\n",
    "</tr>\n",
    "</table>"
   ]
  },
  {
   "cell_type": "markdown",
   "metadata": {
    "slideshow": {
     "slide_type": "subslide"
    }
   },
   "source": [
    "## Evidencias\n",
    "\n",
    "- Procesos de aprendizaje de mayor profundidad.\n",
    "- Mejor aprendizaje conceptual.\n",
    "- Promueve el desarrollo de la aplicación efectiva del conocimiento, el análisis y la capacidad de síntesis."
   ]
  },
  {
   "cell_type": "markdown",
   "metadata": {
    "slideshow": {
     "slide_type": "subslide"
    }
   },
   "source": [
    "- Requiere mayor esfuerzo cognitivo de parte del estudiante.\n",
    "- Requiere mayor responsabilidad en el estudiante.\n",
    "- Justifica la asistencia a clase.\n",
    "\n",
    "Hake (1998); Crouch y Mazur (2001); Deslauriers et al.(2011); Deslauriers y Wieman (2011); Fraser et al.(2014); Freeman et al.(2014).\n"
   ]
  },
  {
   "cell_type": "markdown",
   "metadata": {
    "slideshow": {
     "slide_type": "subslide"
    }
   },
   "source": [
    "<center>\n",
    "    <img src=\"img/diseno_ambiente.svg\"\n",
    "         alt=\"Marco conceptual de diseño.\"\n",
    "         style=\"width:1000px\">\n",
    "</center>"
   ]
  },
  {
   "cell_type": "markdown",
   "metadata": {
    "slideshow": {
     "slide_type": "notes"
    }
   },
   "source": [
    "Enfatizar como en Ing. Civil de EAFIT no estamos haciendo buen uso del constructivismo y de la teoría de la carga cognitiva ya que tenemos materias que no siguen un hilo conductor."
   ]
  },
  {
   "cell_type": "markdown",
   "metadata": {
    "slideshow": {
     "slide_type": "subslide"
    }
   },
   "source": [
    "## Modelo de aprendiz cognitivo\n",
    "\n",
    "Permite a los estudiantes usar estrategias cognitivas y meta-cognitivas para utilizar, administrar y descubrir conocimiento.\n",
    "\n",
    "<center>\n",
    "    <img src=\"img/esquema_aprendiz_cognitivo_bloques.svg\"\n",
    "         alt=\"Modelo de aprendiz activo.\"\n",
    "         style=\"width:800px\">\n",
    "</center>\n"
   ]
  },
  {
   "cell_type": "markdown",
   "metadata": {
    "slideshow": {
     "slide_type": "slide"
    }
   },
   "source": [
    "## ¿ Que se implementó?\n",
    "\n",
    "SolidsPy: Código por elementos finitos basado en Python para la construcción de **ambientes de aprendizaje computacional**.\n",
    "\n",
    "\n"
   ]
  },
  {
   "cell_type": "markdown",
   "metadata": {
    "slideshow": {
     "slide_type": "subslide"
    }
   },
   "source": [
    "- Los ambientes de aprendizaje corresponden a cuadernos tradicionales de notas de clase pero con la integración de elementos interactivos que adicionan visualización, modelación, simulación y experimentación numérica en el aula de clase y en tiempo real.\n",
    "- Los ambientes de aprendizaje permiten diseñar clases en modelos de aula invertida con aprendizaje activo.\n",
    "- Extendibles a otras materias (Mecánica de Sólidos, Análisis Estructral, Mecánica de Suelos, Mecánica de Fluidos)."
   ]
  },
  {
   "cell_type": "markdown",
   "metadata": {
    "slideshow": {
     "slide_type": "slide"
    }
   },
   "source": [
    "## Recursos\n",
    "\n",
    "- SolidsPy (Simulador por elementos finitos basado en Python).\n",
    "- Cuadernillos digitales interactivos (Jupyter Notebooks).\n",
    "- Notas de clase:\n",
    "    - Modelación computacional.\n",
    "    - Mecánica del medio continuo.\n",
    "    - Introducción al Método de Elementos Finitos.\n",
    "- Actividades.\n",
    "- Rúbricas.\n",
    "- Proyectos."
   ]
  },
  {
   "cell_type": "markdown",
   "metadata": {
    "slideshow": {
     "slide_type": "subslide"
    }
   },
   "source": [
    "### Repositorio de GitHub (https://github.com/AppliedMechanics-EAFIT)\n",
    "\n",
    "<img style=\"float: center;\" src=\"./img/github.png\" width=\"800\" height=\"50\" >"
   ]
  },
  {
   "cell_type": "markdown",
   "metadata": {
    "slideshow": {
     "slide_type": "notes"
    }
   },
   "source": [
    "Mostrar REPO de Mecánica Aplicada enfatizando en \"impacto\" de SolidsPy (Seguidores, Downloads, etc)"
   ]
  },
  {
   "cell_type": "markdown",
   "metadata": {
    "slideshow": {
     "slide_type": "slide"
    }
   },
   "source": [
    "# SolidsPy: Código por elementos finitos con fines de aprendizaje activo\n",
    "\n"
   ]
  },
  {
   "cell_type": "markdown",
   "metadata": {
    "slideshow": {
     "slide_type": "subslide"
    }
   },
   "source": [
    "### Atributos\n",
    "\n",
    "- Permite resolver sistemas con más de 6 millones de grados de libertad en un computador portátil para elasticidad plana, armaduras y pórticos.\n",
    "\n",
    "- Es un simulador. Para clases conceptuales donde el objetivo principal es la física y no la simulación.\n",
    "\n",
    "- Es modular. Permite clases procedimentales donde importan los métodos numéricos y/o los algoritmos.\n",
    "\n",
    "- Es un pseudo-lenguaje (Permite construir scripts para clases donde lo importante es una secuencia de simulación particular, e.g., Cercha de von Mises).\n",
    "\n",
    "- Es un paquete de Python (Integrable desde cualquier programa incluyendo Jupyter Notebooks).\n"
   ]
  },
  {
   "cell_type": "markdown",
   "metadata": {
    "slideshow": {
     "slide_type": "subslide"
    }
   },
   "source": [
    "### Impacto externo\n",
    "\n",
    "- Transferible:\n",
    "    - Análisis no-lineal.\n",
    "    - Análisis dinámico.\n",
    "    - Transferencia de calor.\n",
    "    - Placas.\n",
    "    - Análisis de sensibilidades."
   ]
  },
  {
   "cell_type": "markdown",
   "metadata": {
    "slideshow": {
     "slide_type": "subslide"
    }
   },
   "source": [
    "- Más de 100 seguidores en GitHub, 158 descargas por mes.\n",
    "\n",
    "- Nicolás Guarín-Zapata, Juan Gomez (2020). SolidsPy: Version 1.0.16 (Version v1.0.16). Zenodo. http://doi.org/10.5281/zenodo.4029270\n"
   ]
  },
  {
   "cell_type": "markdown",
   "metadata": {
    "slideshow": {
     "slide_type": "subslide"
    }
   },
   "source": [
    "- Wilt et al. 2020. “Accelerating Auxetic Metamaterial Design with Deep Learning”. Advanced Engineering Materials 22(5):1901266.\n",
    "\n",
    "- Jian et al. 2020. “StressGAN: A Generative Deep Learning Model for 2D Stress Distribution Prediction”. en Proceedings of the ASME 2020 Conference."
   ]
  },
  {
   "cell_type": "markdown",
   "metadata": {
    "slideshow": {
     "slide_type": "subslide"
    }
   },
   "source": [
    "\n",
    "- Nie Z et al. Stress Field Prediction in Cantilevered Structures Using Convolutional Neural Networks. Journal of Computing and Information Science in Engineering. 2020 Mar 1;20(1).\n",
    "\n",
    "- De Los Santos, Pedro., Vignaud, Alejo and Mota, Francisco. Desarrollo de una librería en Python para el análisis estructural utilizando elementos finitos. Memorias del XXV Congreso Interncional Anual de la SOMIM. Sinaloa, Mexico, septiembre 2019."
   ]
  },
  {
   "cell_type": "markdown",
   "metadata": {
    "slideshow": {
     "slide_type": "slide"
    }
   },
   "source": [
    "# Ejemplos\n",
    "\n",
    "- Clase conceptual FEM\n",
    "\n",
    "- Clase conceptual Medios.\n",
    "\n",
    "- Clase métodos numéricos Modelación.\n",
    "\n",
    "- Clase simulación FEM."
   ]
  },
  {
   "cell_type": "markdown",
   "metadata": {
    "slideshow": {
     "slide_type": "slide"
    }
   },
   "source": [
    "### Investigación\n",
    "\n",
    "- Vieira, Camilo and Gomez, Juan. Integrating Computation into a Civil Engineering Curriculum: Instructions at a Colombian Higher Education Institution. Proceedings of the 2019. Research in Engineering Education Symposium (REES). July 10-12, Cape Town, South Africa.\n",
    "\n",
    "- Gomez, Juan, Guarín-Zapata, Nicolás, Vieira, Camilo and Ortega-Alvarez, Juan. Jupyter notebooks y otros recursos para el aprendizaje activo en el área de Mecánica Computacional de la Universidad EAFIT. Experiencias significativas de aprendizaje en el aula. Universidad Nacional, Medellín, Colombia. Noviembre del 2019.\n"
   ]
  },
  {
   "cell_type": "markdown",
   "metadata": {
    "slideshow": {
     "slide_type": "subslide"
    }
   },
   "source": [
    "\n",
    "- Ortega-Alvarez, Juan., Guarín-Zapata, Nicolás., Vieira, Camilo and Gomez, Juan. Flipping a Computational Modeling Class: Strategies to Engage Students and Foster Active Learning. Frontiers in Education 2020. October 21-24, 2020. Uppsala, Sweden.\n",
    "\n",
    "- Gomez, Juan., Guarín-Zapata, Nicolás., Vieira, Camilo., and Ortega-Alvarez, Juan. Pensamiento Computacional en Ingenierías: Transformando el proceso de aprendizaje. Premio Latinoamericano a la Innovación en Educación Superior en la categoría Experiencias de Aprendizaje Transformador. Universidad del Rosario."
   ]
  }
 ],
 "metadata": {
  "celltoolbar": "Slideshow",
  "kernelspec": {
   "display_name": "Python 3",
   "language": "python",
   "name": "python3"
  },
  "language_info": {
   "codemirror_mode": {
    "name": "ipython",
    "version": 3
   },
   "file_extension": ".py",
   "mimetype": "text/x-python",
   "name": "python",
   "nbconvert_exporter": "python",
   "pygments_lexer": "ipython3",
   "version": "3.7.3"
  },
  "livereveal": {
   "autolaunch": true
  },
  "varInspector": {
   "cols": {
    "lenName": 16,
    "lenType": 16,
    "lenVar": 40
   },
   "kernels_config": {
    "python": {
     "delete_cmd_postfix": "",
     "delete_cmd_prefix": "del ",
     "library": "var_list.py",
     "varRefreshCmd": "print(var_dic_list())"
    },
    "r": {
     "delete_cmd_postfix": ") ",
     "delete_cmd_prefix": "rm(",
     "library": "var_list.r",
     "varRefreshCmd": "cat(var_dic_list()) "
    }
   },
   "types_to_exclude": [
    "module",
    "function",
    "builtin_function_or_method",
    "instance",
    "_Feature"
   ],
   "window_display": false
  }
 },
 "nbformat": 4,
 "nbformat_minor": 1
}
